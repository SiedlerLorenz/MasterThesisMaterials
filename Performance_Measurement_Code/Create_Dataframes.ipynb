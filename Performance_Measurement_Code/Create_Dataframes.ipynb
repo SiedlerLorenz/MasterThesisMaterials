{
 "cells": [
  {
   "cell_type": "code",
   "execution_count": 1,
   "id": "4ee306a4",
   "metadata": {},
   "outputs": [],
   "source": [
    "import pandas as pd\n",
    "import numpy as np\n",
    "from IPython.display import display"
   ]
  },
  {
   "cell_type": "code",
   "execution_count": 2,
   "id": "7ec8e727",
   "metadata": {},
   "outputs": [],
   "source": [
    "n_rows = [int(i) for i in np.geomspace(1,10000000,len(str(10000000)))]\n",
    "n_cols = [1,5,10,20,30,40]\n",
    "\n",
    "min_limit = -100; max_limit = 100"
   ]
  },
  {
   "cell_type": "code",
   "execution_count": 3,
   "id": "67f76c8b",
   "metadata": {},
   "outputs": [],
   "source": [
    "for i in n_cols:\n",
    "    for j in n_rows:\n",
    "        df = pd.DataFrame(np.random.randint(min_limit, max_limit, size=(j, i)), columns=[f\"col{n}\" for n in range(i)])\n",
    "        # ID as key\n",
    "        df.insert(0, 'id', pd.Series(np.random.randint(1,100, size=(j))).values)\n",
    "\n",
    "        #store as csv\n",
    "        df.to_csv(f\"./Dataframes/Dataframe_{i}_{j}.csv\", index=False)\n",
    "        #store as parquet\n",
    "        df.to_parquet(f\"./Dataframes/Dataframe_{i}_{j}.parquet.gz\",compression='gzip', index=False) \n",
    "        #store as json\n",
    "        df.to_json(f\"./Dataframes/Dataframe_{i}_{j}.json.gz\",orient=\"records\", compression='gzip', lines=True)\n",
    "        #df_support.to_json(f\"./Test_Support_Dataframe_6_1000_Lines.json\", orient=\"records\", lines=True)\n"
   ]
  },
  {
   "cell_type": "code",
   "execution_count": null,
   "id": "601e4646",
   "metadata": {},
   "outputs": [],
   "source": []
  }
 ],
 "metadata": {
  "kernelspec": {
   "display_name": "Python 3 (ipykernel)",
   "language": "python",
   "name": "python3"
  },
  "language_info": {
   "codemirror_mode": {
    "name": "ipython",
    "version": 3
   },
   "file_extension": ".py",
   "mimetype": "text/x-python",
   "name": "python",
   "nbconvert_exporter": "python",
   "pygments_lexer": "ipython3",
   "version": "3.8.5"
  }
 },
 "nbformat": 4,
 "nbformat_minor": 5
}
