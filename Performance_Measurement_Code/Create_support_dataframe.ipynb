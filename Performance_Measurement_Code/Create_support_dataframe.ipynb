{
 "cells": [
  {
   "cell_type": "code",
   "execution_count": 3,
   "id": "5fdae954",
   "metadata": {},
   "outputs": [],
   "source": [
    "import pandas as pd\n",
    "import numpy as np\n",
    "\n",
    "min_limit = -100\n",
    "max_limit = 100\n"
   ]
  },
  {
   "cell_type": "code",
   "execution_count": 5,
   "id": "e1e1ecef",
   "metadata": {},
   "outputs": [],
   "source": [
    "df_support = pd.DataFrame(np.random.randint(min_limit, max_limit, size=(1000,5)), columns=[f\"col_{n}\" for n in range(5)])\n",
    "df_support.insert(0, 'id', pd.Series(np.random.randint(1,100, size=(1000))).values)\n",
    "\n",
    "df_support.to_csv(f\"./Support_Dataframe_6_1000.csv\", index=False)"
   ]
  }
 ],
 "metadata": {
  "kernelspec": {
   "display_name": "Python 3 (ipykernel)",
   "language": "python",
   "name": "python3"
  },
  "language_info": {
   "codemirror_mode": {
    "name": "ipython",
    "version": 3
   },
   "file_extension": ".py",
   "mimetype": "text/x-python",
   "name": "python",
   "nbconvert_exporter": "python",
   "pygments_lexer": "ipython3",
   "version": "3.8.5"
  }
 },
 "nbformat": 4,
 "nbformat_minor": 5
}
